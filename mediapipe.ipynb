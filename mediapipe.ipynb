{
 "cells": [
  {
   "cell_type": "code",
   "execution_count": null,
   "metadata": {},
   "outputs": [],
   "source": [
    "import torch\n",
    "import torchvision.transforms as transforms\n",
    "from torchvision.datasets import ImageFolder\n",
    "from torch.utils.data import DataLoader\n",
    "import cv2\n",
    "\n",
    "class DataHandle:\n",
    "    def __init__(self):\n",
    "        self.db = []\n",
    "        self.img = None\n",
    "        self.new_file_path = ''\n",
    "\n",
    "\n",
    "    def _detect_crop_img(self, img_path):\n",
    "        try:\n",
    "            self.img= cv2.imread(img_path)\n",
    "                                                    \n",
    "            face_cascade = cv2.CascadeClassifier('./haarcascade_frontalface_default.xml')\n",
    "            gray = cv2.cvtColor(self.img, cv2.COLOR_BGR2GRAY)\n",
    "         \n",
    "            faces = face_cascade.detectMultiScale(gray, 1.3, 5)\n",
    "            for (x,y,w,h) in faces:\n",
    "              \n",
    "                    img = self.img.copy()\n",
    "                    roi = img[y:y+h,x:x+w]\n",
    "                    resize = cv2.resize(roi,(96,96), interpolation=cv2.INTER_CUBIC)\n",
    "                    \n",
    "\n",
    "                    self.img= resize\n",
    "                    return True\n",
    "\n",
    "        except:\n",
    "            return False\n",
    "            \n",
    "   \n",
    "    def work(self, img_path,folder,emotion, name):\n",
    " \n",
    "            self.img = cv2.imread(img_path)\n",
    "  \n",
    "            if  self._detect_crop_img(img_path): # True\n",
    "\n",
    "                self.new_file_path = f'./{folder}/{emotion}_{name}'\n",
    "                self.db.append({\n",
    "                    'path': self.new_file_path,\n",
    "                    'emotion': emotion\n",
    "                })\n",
    "\n",
    "                cv2.imwrite(self.new_file_path, self.img)\n"
   ]
  },
  {
   "cell_type": "code",
   "execution_count": null,
   "metadata": {},
   "outputs": [],
   "source": [
    "for newname in 미디어 파이프 이미지 저장 :\n",
    "            (emotion,name) =newname.split('_')\n",
    "          \n",
    "            img_path = f\"./image_data/{emotion}/{name}\"\n",
    "            print(img_path)\n",
    "            data_handler.work(img_path,'crop' )"
   ]
  }
 ],
 "metadata": {
  "language_info": {
   "name": "python"
  },
  "orig_nbformat": 4
 },
 "nbformat": 4,
 "nbformat_minor": 2
}
